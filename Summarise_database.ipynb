{
 "cells": [
  {
   "cell_type": "code",
   "execution_count": null,
   "metadata": {},
   "outputs": [],
   "source": [
    "import pandas as pd\n",
    "from scipy.stats import describe\n",
    "import numpy as np\n",
    "import matplotlib.pyplot as plt\n",
    "\n",
    "from hurst import compute_Hc, random_walk\n",
    "from scipy import stats\n",
    "import os\n",
    "\n",
    "def extract_col(x):\n",
    "    if min(x)>0:\n",
    "        return True\n",
    "    else:\n",
    "        return False\n",
    "    "
   ]
  },
  {
   "cell_type": "code",
   "execution_count": null,
   "metadata": {},
   "outputs": [],
   "source": [
    "df = pd.read_csv(\"C:\\My Work Documents\\Dissertation\\pythonCodeVersions\\ABC_HFT_Git\\Simulated data\\out_test.csv\")\n",
    "df = pd.DataFrame(df)\n",
    "df.shape\n",
    "df.columns = range(df.shape[1])\n",
    "df"
   ]
  },
  {
   "cell_type": "code",
   "execution_count": null,
   "metadata": {},
   "outputs": [],
   "source": [
    "param = pd.read_csv(\"C:\\My Work Documents\\Dissertation\\pythonCodeVersions\\ABC_HFT_Git\\Simulated data\\param_test.csv\")\n",
    "param = param.transpose()\n",
    "param.columns = range(df.shape[1])\n",
    "param_pos = param.loc[:, df.apply(extract_col, axis = 0)]"
   ]
  },
  {
   "cell_type": "code",
   "execution_count": null,
   "metadata": {},
   "outputs": [],
   "source": [
    "df\n",
    "\n",
    "plt.plot(df[23],color=\"C0\", label='Simulation')\n",
    "#print(param1_pos[x])"
   ]
  },
  {
   "cell_type": "code",
   "execution_count": null,
   "metadata": {},
   "outputs": [],
   "source": [
    "df_pos = df.loc[:, df.apply(extract_col, axis = 0)]\n",
    "df_pos = np.log(df_pos)\n",
    "df_pos.columns = range(0,df_pos.shape[1])\n",
    "df_pos"
   ]
  },
  {
   "cell_type": "code",
   "execution_count": null,
   "metadata": {},
   "outputs": [],
   "source": [
    "p_true = pd.read_csv(\"C:\\My Work Documents\\Dissertation\\pythonCodeVersions\\p_true.csv\")\n",
    "p_true = pd.DataFrame(p_true)\n",
    "\n",
    "p_true = pd.read_csv(\"C:\\My Work Documents\\Dissertation\\Dissertation Data\\Original_Price_Bars_2300.csv\", \n",
    "                              header=None)\n",
    "p_true = pd.DataFrame(p_true)\n",
    "p_true\n"
   ]
  },
  {
   "cell_type": "code",
   "execution_count": null,
   "metadata": {},
   "outputs": [],
   "source": [
    "param_pos"
   ]
  },
  {
   "cell_type": "code",
   "execution_count": 116,
   "metadata": {},
   "outputs": [],
   "source": [
    "def summary_stats_extra(x):\n",
    "    \"\"\"outputs additional summary statistics: skewness, kurtosis, Hurst\"\"\"\n",
    "\n",
    "    try:\n",
    "        H, c, data = compute_Hc(x, kind='price', simplified=True)\n",
    "    except Exception as e:\n",
    "        H = 0.25\n",
    "        print(e)\n",
    "        \n",
    "    # count, mean, std, min, 25%, 50%, 75%, max\n",
    "    s1 = x.describe()\n",
    "    \n",
    "    # Kolmogorov Smirnov 2 sample test statistic (if 0 - identical)\n",
    "    ks_stat = {\"KS\": stats.ks_2samp(np.ravel(x), np.ravel(np.log(p_true)))[0]}\n",
    "    \n",
    "    return {\"mean\": s1.loc[\"mean\"],\n",
    "            \"std\": np.log(s1.loc[\"std\"]),\n",
    "            \"skew\": x.skew(),\n",
    "            \"kurt\": x.kurt(),\n",
    "            \"hurst\": H,\n",
    "            **ks_stat}\n",
    "\n"
   ]
  },
  {
   "cell_type": "code",
   "execution_count": 117,
   "metadata": {},
   "outputs": [],
   "source": [
    "def summarise_price_path(price_path, islog = False):\n",
    "    percentiles = [0,.1, .25, .3, .4, .5, .6, .7, .8, .9, 1.0]\n",
    "    price_path_t = price_path.copy()\n",
    "    \n",
    "    # log prices if not yet logged\n",
    "    if islog == False:\n",
    "        price_path_t = np.log(price_path_t)\n",
    "        \n",
    "    SS1 = summary_stats_extra(price_path_t)\n",
    "    SS1_df = pd.DataFrame(list(SS1.items()), columns=['SS_name', 'SS'])\n",
    "    #print(SS1_df)\n",
    "    \n",
    "    \n",
    "    price_path_t = pd.DataFrame(price_path_t)\n",
    "    SS2 = price_path_t.quantile(percentiles)\n",
    "\n",
    "    SS2 = SS2.diff().iloc[1:].values\n",
    "    \n",
    "    SS2 = pd.DataFrame(SS2)\n",
    "    SS2 = pd.DataFrame(np.mean(SS2.iloc[[1,8]]))\n",
    "    \n",
    "    SS2_name = np.array(range(1)) \n",
    "    SS2_df = pd.DataFrame(np.hstack((SS2_name.T[:,None],SS2.iloc[:,0].values[:,None])), columns = ['SS_name', 'SS'])\n",
    "    dfs = [SS1_df, SS2_df]\n",
    "    dfs = pd.concat(dfs)\n",
    "    \n",
    "    arr = dfs[\"SS\"]\n",
    "    \n",
    "    return(arr)\n",
    "    \n",
    "        "
   ]
  },
  {
   "cell_type": "code",
   "execution_count": null,
   "metadata": {},
   "outputs": [],
   "source": [
    "SS_true = p_true.apply(summarise_price_path, islog =False, axis = 0)\n",
    "SS_true\n"
   ]
  },
  {
   "cell_type": "code",
   "execution_count": null,
   "metadata": {},
   "outputs": [],
   "source": [
    "SS = df_pos.apply(summarise_price_path, islog =True, axis = 0)\n"
   ]
  },
  {
   "cell_type": "code",
   "execution_count": null,
   "metadata": {},
   "outputs": [],
   "source": [
    "SS.index = [\"mean\", \"std\", \"Skew\", \"Kurt\", \"Hurst\", \"KS\", \"diff_percentile\"]\n"
   ]
  },
  {
   "cell_type": "code",
   "execution_count": null,
   "metadata": {},
   "outputs": [],
   "source": [
    "# SS transformations\n",
    "SS_trans = SS.T[np.multiply((SS.loc[\"Kurt\"]<2) , (SS.loc[\"diff_percentile\"]<0.005))].T\n",
    "param_pos_trans = param_pos.T.iloc[SS_trans.columns].T\n",
    "SS_trans.loc[\"diff_percentile\"] = np.log(SS_trans.loc[\"diff_percentile\"]+1)\n",
    "SS_trans.loc[\"diff_percentile\"] = (SS_trans.loc[\"diff_percentile\"]-np.mean(SS_trans.loc[\"diff_percentile\"]))/np.std(SS_trans.loc[\"diff_percentile\"])"
   ]
  },
  {
   "cell_type": "code",
   "execution_count": null,
   "metadata": {},
   "outputs": [],
   "source": [
    "SS_trans.to_csv(os.path.join(\"C:\\My Work Documents\\Dissertation\\pythonCodeVersions\", 'SS_options_test.csv'), index=False)\n",
    "param_pos_trans.to_csv(os.path.join(\"C:\\My Work Documents\\Dissertation\\pythonCodeVersions\", 'param_options_test.csv'), index=False)\n",
    "SS_true.to_csv(os.path.join(\"C:\\My Work Documents\\Dissertation\\pythonCodeVersions\", 'SS_true_options_test.csv'), index=False)\n"
   ]
  },
  {
   "cell_type": "code",
   "execution_count": null,
   "metadata": {},
   "outputs": [],
   "source": [
    "sns.set(style=\"ticks\")\n",
    "dft = pd.DataFrame(np.vstack((param_pos_trans,SS_trans)))\n",
    "#[param_pos_trans.loc[\"delta\"], SS_trans]\n",
    "np.concatenate((param_pos_trans.index, SS_trans.index))\n",
    "dft.index = np.concatenate((param_pos_trans.index, SS_trans.index))\n",
    "\n",
    "delta_df = dft.drop([\"C_lambda\", \"delta_S\", \"delta\", \"mu\",\"lambda_0\"])\n",
    "sns.pairplot(delta_df.T)"
   ]
  },
  {
   "cell_type": "code",
   "execution_count": null,
   "metadata": {},
   "outputs": [],
   "source": [
    "sns.set(style=\"ticks\")\n",
    "\n",
    "\n",
    "sns.pairplot(SS_trans.iloc[([0,1,2,3,4,5,7,14])].T)\n"
   ]
  },
  {
   "cell_type": "code",
   "execution_count": null,
   "metadata": {},
   "outputs": [],
   "source": [
    "sns.set(style=\"ticks\")\n",
    "\n",
    "\n",
    "#sns.pairplot()\n",
    "fig_size = plt.rcParams[\"figure.figsize\"]\n",
    "fig_size[0] = 20\n",
    "fig_size[1] = 20\n",
    "plt.matshow(SS_trans.T.corr())\n",
    "plt.xticks(range(len(SS_trans.T.columns)), SS_trans.T.columns, fontsize=14)\n",
    "plt.yticks(range(len(SS_trans.T.columns)), SS_trans.T.columns, fontsize=14)\n",
    "plt.colorbar()\n",
    "plt.show()"
   ]
  },
  {
   "cell_type": "code",
   "execution_count": null,
   "metadata": {},
   "outputs": [],
   "source": [
    "# plot\n",
    "from scipy.stats import norm\n",
    "\n",
    "\n",
    "from scipy import stats\n",
    "SS_test = SS\n",
    "SS[(np.abs(stats.zscore(SS)) < 3).all(axis=1)]\n",
    "#(np.abs(stats.zscore(SS.T)) < 3).all()\n",
    "S_kurt = SS.loc[\"Kurt\"][SS.loc[\"Kurt\"]<2]\n",
    "\n",
    "\n",
    "f, axes = plt.subplots(2, 3, sharex=False, figsize=(7, 7))\n",
    "sns.distplot( SS.loc[\"mean\"] , color=\"olive\", ax=axes[0, 0], fit=norm)\n",
    "sns.distplot( np.log(SS.loc[\"std\"]) , color=\"olive\", ax=axes[0, 1], fit=norm)\n",
    "sns.distplot( (SS.loc[\"Skew\"]) , color=\"olive\", ax=axes[0, 2], fit=norm)\n",
    "sns.distplot( (S_kurt) , color=\"olive\", ax=axes[1, 0], fit=norm)\n",
    "sns.distplot( (SS.loc[\"Hurst\"]) , color=\"olive\", ax=axes[1, 1], fit=norm)\n",
    "sns.distplot( (SS.loc[\"KS\"]) , color=\"olive\", ax=axes[1, 2],fit=norm)"
   ]
  },
  {
   "cell_type": "code",
   "execution_count": null,
   "metadata": {},
   "outputs": [],
   "source": [
    "# f, axes = plt.subplots(2, 3, sharex=False, figsize=(7, 7))\n",
    "sns.distplot( param_pos.loc[\"delta\"] , color=\"skyblue\", ax=axes[0, 0], fit=norm)\n",
    "sns.distplot( param_pos.loc[\"mu\"] , color=\"olive\", ax=axes[0, 1])\n",
    "sns.distplot( param_pos.loc[\"alpha\"] , color=\"gold\", ax=axes[0, 2])\n",
    "sns.distplot( param_pos.loc[\"lambda_0\"] , color=\"teal\", ax=axes[1, 0])\n",
    "sns.distplot( param_pos.loc[\"C_lambda\"] , color=\"teal\", ax=axes[1, 1])\n",
    "sns.distplot( param_pos.loc[\"delta_S\"] , color=\"teal\", ax=axes[1, 2])"
   ]
  },
  {
   "cell_type": "code",
   "execution_count": null,
   "metadata": {},
   "outputs": [],
   "source": [
    "f, axes = plt.subplots(5, 2, sharex=False, figsize=(7, 7))\n",
    "sns.distplot( np.log(SS.loc[\"1\"][stats.zscore(SS.loc[\"1\"])< 2]+1) , color=\"skyblue\", ax=axes[0, 0], fit=norm)\n",
    "sns.distplot( np.log(SS.loc[\"2\"][stats.zscore(SS.loc[\"2\"])< 2]+1) , color=\"olive\", ax=axes[1, 0], fit=norm)\n",
    "sns.distplot( np.log(SS.loc[\"3\"][stats.zscore(SS.loc[\"3\"])< 2]+1) , color=\"gold\", ax=axes[2, 0], fit=norm)\n",
    "sns.distplot( np.log(SS.loc[\"4\"][stats.zscore(SS.loc[\"4\"])< 2]+1) , color=\"teal\", ax=axes[3, 0], fit=norm)\n",
    "sns.distplot( np.log(SS.loc[\"5\"][stats.zscore(SS.loc[\"5\"])< 2]+1) , color=\"teal\", ax=axes[4, 0], fit=norm)\n",
    "sns.distplot( np.log(SS.loc[\"6\"][stats.zscore(SS.loc[\"6\"])< 2]+1) , color=\"teal\", ax=axes[0, 1], fit=norm)\n",
    "sns.distplot( np.log(SS.loc[\"7\"][stats.zscore(SS.loc[\"7\"])< 2]+1) , color=\"gold\", ax=axes[1, 1], fit=norm)\n",
    "sns.distplot( np.log(SS.loc[\"8\"][stats.zscore(SS.loc[\"7\"])< 2]+1) , color=\"teal\", ax=axes[2, 1], fit=norm)\n",
    "sns.distplot( np.log(SS.loc[\"9\"][stats.zscore(SS.loc[\"8\"])< 2]+1) , color=\"teal\", ax=axes[3, 1], fit=norm)\n",
    "sns.distplot( np.log(SS.loc[\"10\"][stats.zscore(SS.loc[\"9\"])< 2]+1) , color=\"teal\", ax=axes[4, 1], fit=norm)"
   ]
  },
  {
   "cell_type": "code",
   "execution_count": null,
   "metadata": {},
   "outputs": [],
   "source": [
    "SS.loc[\"10\"][26]"
   ]
  },
  {
   "cell_type": "markdown",
   "metadata": {},
   "source": [
    "## Regression Lasso"
   ]
  },
  {
   "cell_type": "code",
   "execution_count": 89,
   "metadata": {},
   "outputs": [],
   "source": [
    "import numpy as np # linear algebra\n",
    "import pandas as pd # data processing, CSV file I/O (e.g. pd.read_csv)\n",
    "import seaborn as sns\n",
    "import matplotlib\n",
    "from scipy.stats import skew\n",
    "import matplotlib.pyplot as plt\n",
    "from IPython.display import display, HTML\n",
    "from scipy.stats.stats import pearsonr\n",
    "%matplotlib inline\n",
    "from subprocess import check_output\n",
    "from sklearn.linear_model import Ridge, RidgeCV, ElasticNet, LassoCV, LassoLarsCV\n",
    "from sklearn.model_selection import cross_val_score\n",
    "from sklearn.linear_model import Lasso\n",
    "from sklearn.linear_model import LinearRegression"
   ]
  },
  {
   "cell_type": "code",
   "execution_count": 90,
   "metadata": {},
   "outputs": [],
   "source": [
    "sim_sum_stats = pd.read_csv(\"C:\\My Work Documents\\Dissertation\\pythonCodeVersions\\SS_options_sqr.csv\").T.iloc[1:]\n",
    "sim_param = pd.read_csv(\"C:\\My Work Documents\\Dissertation\\pythonCodeVersions\\param_options_test.csv\")\n",
    "\n",
    "\n",
    "X = sim_sum_stats.T ## X usually means our input variables (or independent variables)\n",
    "X.columns = [\"mean\", \"std\", \"Skew\", \"Kurt\", \"Hurst\", \"KS\", \"diff_percentile\", \n",
    "                    \"mean2\", \"std2\", \"Skew2\", \"Kurt2\", \"Hurst2\", \"KS2\", \"diff_percentile2\"]\n",
    "\n",
    "sim_param.rename(index ={0:\"delta\", 1:\"mu\", 2:\"alpha\", 3:\"lambda0\", 4:\"C_lambda\", 5:\"delta_S\"}, inplace=True)\n",
    "\n",
    "y = sim_param ## Y usually means our output/dependent variable\n",
    "#X_scaled = sm.add_constant(X_scaled) ## let's add an intercept (beta_0) to our model\n",
    "y = y.loc[\"delta_S\"]"
   ]
  },
  {
   "cell_type": "code",
   "execution_count": 91,
   "metadata": {},
   "outputs": [],
   "source": [
    "from sklearn.model_selection import train_test_split\n",
    "\n",
    "X_train = X\n",
    "y_train = y\n",
    "\n"
   ]
  },
  {
   "cell_type": "code",
   "execution_count": 92,
   "metadata": {},
   "outputs": [
    {
     "name": "stdout",
     "output_type": "stream",
     "text": [
      "0.013970465361678916\n"
     ]
    },
    {
     "data": {
      "image/png": "[encoded data removed]",
      "text/plain": [
       "<Figure size 432x288 with 1 Axes>"
      ]
     },
     "metadata": {
      "needs_background": "light"
     },
     "output_type": "display_data"
    }
   ],
   "source": [
    "def rmse_cv(model):\n",
    "    rmse= np.sqrt(-cross_val_score(model, X_train, y_train, scoring=\"neg_mean_squared_error\", cv = 10))\n",
    "    return(rmse)\n",
    "\n",
    "\n",
    "alphas_try = [0.01, 0.05, 0.1, 0.3, 0.8, 1, 2, 5, 10]\n",
    "cv_ridge = [rmse_cv(Lasso(alpha = alpha)).mean() \n",
    "            for alpha in alphas_try]\n",
    "cv_ridge = pd.Series(cv_ridge, index = alphas_try)\n",
    "cv_ridge.plot(title = \"Validation\")\n",
    "plt.xlabel(\"alpha\")\n",
    "plt.ylabel(\"rmse\")\n",
    "cv_ridge.min()\n",
    "\n",
    "# ###Model Lasso regression\n",
    "###Model Lasso regression\n",
    "model_lasso = LassoCV(alphas = [10, 1, 0.1, 0.001, 0.0005], max_iter=10000,cv=10).fit(X_train, y_train)\n",
    "print(rmse_cv(model_lasso).mean())\n",
    "coef = pd.Series(model_lasso.coef_, index = X_train.columns)\n",
    "coef\n",
    "cv_ridge = pd.DataFrame(np.vstack([cv_ridge,alphas_try]).T, index=alphas_try)\n",
    "#plt.plot(cv_ridge[1], cv_ridge[0])\n",
    "#plt.show()\n",
    "#cv_ridge[0]\n",
    "#np.array(alphas_try)\n",
    "#cv_ridge\n"
   ]
  },
  {
   "cell_type": "code",
   "execution_count": 93,
   "metadata": {},
   "outputs": [
    {
     "name": "stdout",
     "output_type": "stream",
     "text": [
      "Lasso picked 0 variables and eliminated the other 14 variables\n"
     ]
    }
   ],
   "source": [
    "print(\"Lasso picked \" + str(sum(coef != 0)) + \n",
    "      \" variables and eliminated the other \" +  \n",
    "      str(sum(coef == 0)) + \" variables\")\n"
   ]
  },
  {
   "cell_type": "code",
   "execution_count": 94,
   "metadata": {},
   "outputs": [
    {
     "data": {
      "text/plain": [
       "Text(0.5, 1.0, 'Coefficients in the Lasso Model')"
      ]
     },
     "execution_count": 94,
     "metadata": {},
     "output_type": "execute_result"
    },
    {
     "data": {
      "image/png": "[encoded data removed]",
      "text/plain": [
       "<Figure size 576x720 with 1 Axes>"
      ]
     },
     "metadata": {
      "needs_background": "light"
     },
     "output_type": "display_data"
    }
   ],
   "source": [
    "imp_coef = pd.concat([coef.sort_values().head(7),\n",
    "                     coef.sort_values().tail(7)])\n",
    "matplotlib.rcParams['figure.figsize'] = (8.0, 10.0)\n",
    "imp_coef.plot(kind = \"barh\")\n",
    "plt.title(\"Coefficients in the Lasso Model\")"
   ]
  },
  {
   "cell_type": "code",
   "execution_count": 112,
   "metadata": {},
   "outputs": [
    {
     "data": {
      "text/html": [
       "<table class=\"simpletable\">\n",
       "<caption>OLS Regression Results</caption>\n",
       "<tr>\n",
       "  <th>Dep. Variable:</th>            <td>y</td>        <th>  R-squared:         </th> <td>   0.018</td>\n",
       "</tr>\n",
       "<tr>\n",
       "  <th>Model:</th>                   <td>OLS</td>       <th>  Adj. R-squared:    </th> <td>   0.014</td>\n",
       "</tr>\n",
       "<tr>\n",
       "  <th>Method:</th>             <td>Least Squares</td>  <th>  F-statistic:       </th> <td>   4.159</td>\n",
       "</tr>\n",
       "<tr>\n",
       "  <th>Date:</th>             <td>Sun, 12 Jan 2020</td> <th>  Prob (F-statistic):</th>  <td>0.0162</td> \n",
       "</tr>\n",
       "<tr>\n",
       "  <th>Time:</th>                 <td>15:58:27</td>     <th>  Log-Likelihood:    </th> <td>  1319.6</td>\n",
       "</tr>\n",
       "<tr>\n",
       "  <th>No. Observations:</th>      <td>   461</td>      <th>  AIC:               </th> <td>  -2633.</td>\n",
       "</tr>\n",
       "<tr>\n",
       "  <th>Df Residuals:</th>          <td>   458</td>      <th>  BIC:               </th> <td>  -2621.</td>\n",
       "</tr>\n",
       "<tr>\n",
       "  <th>Df Model:</th>              <td>     2</td>      <th>                     </th>     <td> </td>   \n",
       "</tr>\n",
       "<tr>\n",
       "  <th>Covariance Type:</th>      <td>nonrobust</td>    <th>                     </th>     <td> </td>   \n",
       "</tr>\n",
       "</table>\n",
       "<table class=\"simpletable\">\n",
       "<tr>\n",
       "    <td></td>       <th>coef</th>     <th>std err</th>      <th>t</th>      <th>P>|t|</th>  <th>[0.025</th>    <th>0.975]</th>  \n",
       "</tr>\n",
       "<tr>\n",
       "  <th>const</th> <td>    0.0266</td> <td>    0.001</td> <td>   20.728</td> <td> 0.000</td> <td>    0.024</td> <td>    0.029</td>\n",
       "</tr>\n",
       "<tr>\n",
       "  <th>Kurt</th>  <td>    0.0029</td> <td>    0.001</td> <td>    2.459</td> <td> 0.014</td> <td>    0.001</td> <td>    0.005</td>\n",
       "</tr>\n",
       "<tr>\n",
       "  <th>Skew2</th> <td>   -0.0051</td> <td>    0.002</td> <td>   -2.691</td> <td> 0.007</td> <td>   -0.009</td> <td>   -0.001</td>\n",
       "</tr>\n",
       "</table>\n",
       "<table class=\"simpletable\">\n",
       "<tr>\n",
       "  <th>Omnibus:</th>       <td>120.216</td> <th>  Durbin-Watson:     </th> <td>   2.032</td>\n",
       "</tr>\n",
       "<tr>\n",
       "  <th>Prob(Omnibus):</th> <td> 0.000</td>  <th>  Jarque-Bera (JB):  </th> <td>  23.780</td>\n",
       "</tr>\n",
       "<tr>\n",
       "  <th>Skew:</th>          <td> 0.184</td>  <th>  Prob(JB):          </th> <td>6.86e-06</td>\n",
       "</tr>\n",
       "<tr>\n",
       "  <th>Kurtosis:</th>      <td> 1.950</td>  <th>  Cond. No.          </th> <td>    4.52</td>\n",
       "</tr>\n",
       "</table><br/><br/>Warnings:<br/>[1] Standard Errors assume that the covariance matrix of the errors is correctly specified."
      ],
      "text/plain": [
       "<class 'statsmodels.iolib.summary.Summary'>\n",
       "\"\"\"\n",
       "                            OLS Regression Results                            \n",
       "==============================================================================\n",
       "Dep. Variable:                      y   R-squared:                       0.018\n",
       "Model:                            OLS   Adj. R-squared:                  0.014\n",
       "Method:                 Least Squares   F-statistic:                     4.159\n",
       "Date:                Sun, 12 Jan 2020   Prob (F-statistic):             0.0162\n",
       "Time:                        15:58:27   Log-Likelihood:                 1319.6\n",
       "No. Observations:                 461   AIC:                            -2633.\n",
       "Df Residuals:                     458   BIC:                            -2621.\n",
       "Df Model:                           2                                         \n",
       "Covariance Type:            nonrobust                                         \n",
       "==============================================================================\n",
       "                 coef    std err          t      P>|t|      [0.025      0.975]\n",
       "------------------------------------------------------------------------------\n",
       "const          0.0266      0.001     20.728      0.000       0.024       0.029\n",
       "Kurt           0.0029      0.001      2.459      0.014       0.001       0.005\n",
       "Skew2         -0.0051      0.002     -2.691      0.007      -0.009      -0.001\n",
       "==============================================================================\n",
       "Omnibus:                      120.216   Durbin-Watson:                   2.032\n",
       "Prob(Omnibus):                  0.000   Jarque-Bera (JB):               23.780\n",
       "Skew:                           0.184   Prob(JB):                     6.86e-06\n",
       "Kurtosis:                       1.950   Cond. No.                         4.52\n",
       "==============================================================================\n",
       "\n",
       "Warnings:\n",
       "[1] Standard Errors assume that the covariance matrix of the errors is correctly specified.\n",
       "\"\"\""
      ]
     },
     "execution_count": 112,
     "metadata": {},
     "output_type": "execute_result"
    }
   ],
   "source": [
    "import statsmodels.api as sm # import statsmodels \n",
    "y_train = pd.DataFrame(y_train)\n",
    "# Note the difference in argument order\n",
    "X_train = sm.add_constant(X_train)\n",
    "\n",
    "# X_train = X_train[np.array([ \"const\", \"std\",\n",
    "#                             \"diff_percentile2\" ])].astype(float)\n",
    "X_train = X_train.T.drop( \"KS\").T.astype(float)\n",
    "#X_train = X_train.astype(float)\n",
    "#model = LinearRegression().fit(X_train, y_train)\n",
    "model = sm.OLS(np.array(y_train), X_train).fit() ## sm.OLS(output, input)\n",
    "predictions = model.predict(X_train)\n",
    "#y_train.shape\n",
    "#X_train.shape\n",
    "# Print out the statistics\n",
    "model.summary()"
   ]
  },
  {
   "cell_type": "code",
   "execution_count": 113,
   "metadata": {},
   "outputs": [
    {
     "data": {
      "image/png": "[encoded data removed]",
      "text/plain": [
       "<Figure size 504x1512 with 2 Axes>"
      ]
     },
     "metadata": {
      "needs_background": "light"
     },
     "output_type": "display_data"
    }
   ],
   "source": [
    "from scipy.stats import norm\n",
    "\n",
    "f, axes = plt.subplots(2, 1, sharex=False, figsize=(7, 21))\n",
    "\n",
    "\n",
    "#matplotlib.rcParams['figure.figsize'] = (6, 6.0)\n",
    "preds = pd.DataFrame({\"Predicted\":model.predict(X_train).values, \"True\":y_train.T.values[0]})\n",
    "preds[\"Residuals\"] = np.subtract(preds[\"Predicted\"], preds[\"True\"])\n",
    "#preds.plot(x = \"predicted\", y = \"residuals\",kind = \"scatter\", ax=axes[ 1])\n",
    "preds.plot(x=\"True\", y=\"Predicted\", kind=\"scatter\", ax=axes[ 0])\n",
    "# import seaborn as sns\n",
    "#preds\n",
    "ax = sns.distplot((preds[\"Residuals\"]), fit=norm, ax=axes[ 1])\n",
    "plt.show()\n",
    "#np.subtract(model.predict(X_train).values, y_train.T.values)[0]\n"
   ]
  },
  {
   "cell_type": "code",
   "execution_count": null,
   "metadata": {},
   "outputs": [],
   "source": [
    "preds[\"true\"][456]\n",
    "X_train.iloc[456].values"
   ]
  },
  {
   "cell_type": "code",
   "execution_count": 119,
   "metadata": {},
   "outputs": [
    {
     "data": {
      "text/html": [
       "<div>\n",
       "<style scoped>\n",
       "    .dataframe tbody tr th:only-of-type {\n",
       "        vertical-align: middle;\n",
       "    }\n",
       "\n",
       "    .dataframe tbody tr th {\n",
       "        vertical-align: top;\n",
       "    }\n",
       "\n",
       "    .dataframe thead th {\n",
       "        text-align: right;\n",
       "    }\n",
       "</style>\n",
       "<table border=\"1\" class=\"dataframe\">\n",
       "  <thead>\n",
       "    <tr style=\"text-align: right;\">\n",
       "      <th></th>\n",
       "      <th>0</th>\n",
       "    </tr>\n",
       "  </thead>\n",
       "  <tbody>\n",
       "    <tr>\n",
       "      <td>0</td>\n",
       "      <td>238.745</td>\n",
       "    </tr>\n",
       "    <tr>\n",
       "      <td>1</td>\n",
       "      <td>238.720</td>\n",
       "    </tr>\n",
       "    <tr>\n",
       "      <td>2</td>\n",
       "      <td>238.720</td>\n",
       "    </tr>\n",
       "    <tr>\n",
       "      <td>3</td>\n",
       "      <td>238.675</td>\n",
       "    </tr>\n",
       "    <tr>\n",
       "      <td>4</td>\n",
       "      <td>238.675</td>\n",
       "    </tr>\n",
       "    <tr>\n",
       "      <td>...</td>\n",
       "      <td>...</td>\n",
       "    </tr>\n",
       "    <tr>\n",
       "      <td>2295</td>\n",
       "      <td>254.085</td>\n",
       "    </tr>\n",
       "    <tr>\n",
       "      <td>2296</td>\n",
       "      <td>254.065</td>\n",
       "    </tr>\n",
       "    <tr>\n",
       "      <td>2297</td>\n",
       "      <td>254.175</td>\n",
       "    </tr>\n",
       "    <tr>\n",
       "      <td>2298</td>\n",
       "      <td>254.065</td>\n",
       "    </tr>\n",
       "    <tr>\n",
       "      <td>2299</td>\n",
       "      <td>254.075</td>\n",
       "    </tr>\n",
       "  </tbody>\n",
       "</table>\n",
       "<p>2300 rows × 1 columns</p>\n",
       "</div>"
      ],
      "text/plain": [
       "            0\n",
       "0     238.745\n",
       "1     238.720\n",
       "2     238.720\n",
       "3     238.675\n",
       "4     238.675\n",
       "...       ...\n",
       "2295  254.085\n",
       "2296  254.065\n",
       "2297  254.175\n",
       "2298  254.065\n",
       "2299  254.075\n",
       "\n",
       "[2300 rows x 1 columns]"
      ]
     },
     "execution_count": 119,
     "metadata": {},
     "output_type": "execute_result"
    }
   ],
   "source": [
    "p_true = pd.read_csv(\"C:\\My Work Documents\\Dissertation\\Dissertation Data\\Original_Price_Bars_2300.csv\", \n",
    "                              header=None)\n",
    "p_true = pd.DataFrame(p_true)\n",
    "p_true"
   ]
  }
 ],
 "metadata": {
  "kernelspec": {
   "display_name": "Python 3",
   "language": "python",
   "name": "python3"
  },
  "language_info": {
   "codemirror_mode": {
    "name": "ipython",
    "version": 3
   },
   "file_extension": ".py",
   "mimetype": "text/x-python",
   "name": "python",
   "nbconvert_exporter": "python",
   "pygments_lexer": "ipython3",
   "version": "3.7.4"
  }
 },
 "nbformat": 4,
 "nbformat_minor": 2
}
